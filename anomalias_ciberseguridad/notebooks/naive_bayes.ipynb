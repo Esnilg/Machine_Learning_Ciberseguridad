{
 "cells": [
  {
   "cell_type": "code",
   "execution_count": 10,
   "id": "f8435210",
   "metadata": {},
   "outputs": [],
   "source": [
    "import pandas as pd\n",
    "import numpy as np\n",
    "from sklearn.preprocessing import LabelEncoder, StandardScaler\n",
    "from sklearn.feature_selection import SelectKBest, chi2\n",
    "from sklearn.naive_bayes import GaussianNB, MultinomialNB, BernoulliNB\n",
    "from sklearn.model_selection import train_test_split\n",
    "from sklearn.metrics import classification_report, confusion_matrix, accuracy_score\n",
    "import seaborn as sns\n",
    "import matplotlib.pyplot as plt\n",
    "import os\n",
    "\n",
    "def preprocess_for_naive_bayes(df):\n",
    "    \"\"\"\n",
    "    Preprocesamiento específico para modelos Naive Bayes\n",
    "    \"\"\"\n",
    "    processed_df = df.copy()\n",
    "    \n",
    "    # 1. Codificación de variables categóricas con LabelEncoder\n",
    "    categorical_columns = [\n",
    "        'feature-Method', 'feature-Protocol', 'feature-Connection'\n",
    "    ]\n",
    "    \n",
    "    label_encoders = {}\n",
    "    for col in categorical_columns:\n",
    "        le = LabelEncoder()\n",
    "        processed_df[col + '_encoded'] = le.fit_transform(processed_df[col])\n",
    "        label_encoders[col] = le\n",
    "    \n",
    "    # 2. Procesar feature-URL\n",
    "    processed_df['url_length'] = processed_df['feature-URL'].str.len()\n",
    "    processed_df['has_extension'] = processed_df['feature-URL'].str.contains(r'\\.(html|jsp|php|asp)$', regex=True).astype(int)\n",
    "    processed_df['is_localhost'] = processed_df['feature-URL'].str.contains('localhost').astype(int)\n",
    "    \n",
    "    # 3. Procesar feature-User-Agent\n",
    "    def extract_browser_type(ua):\n",
    "        ua_lower = ua.lower()\n",
    "        if 'chrome' in ua_lower:\n",
    "            return 0\n",
    "        elif 'firefox' in ua_lower:\n",
    "            return 1\n",
    "        elif 'safari' in ua_lower and 'chrome' not in ua_lower:\n",
    "            return 2\n",
    "        elif 'edge' in ua_lower:\n",
    "            return 3\n",
    "        else:\n",
    "            return 4  # otros\n",
    "    \n",
    "    processed_df['browser_type'] = processed_df['feature-User-Agent'].apply(extract_browser_type)\n",
    "    \n",
    "    # 4. Procesar feature-Content-Length (manejar 'notpresent')\n",
    "    processed_df['content_length'] = processed_df['feature-Content-Length'].replace('notpresent', '0').astype(int)\n",
    "    \n",
    "    # 5. Procesar feature-Query\n",
    "    processed_df['has_query'] = (processed_df['feature-Query'] != 'notpresent').astype(int)\n",
    "    processed_df['query_length'] = processed_df['feature-Query'].apply(lambda x: len(x) if x != 'notpresent' else 0)\n",
    "    \n",
    "    # 6. Procesar feature-Accept (simplificar tipos MIME)\n",
    "    def simplify_accept(accept):\n",
    "        if 'application/json' in accept:\n",
    "            return 0\n",
    "        elif 'text/html' in accept:\n",
    "            return 1\n",
    "        elif 'image/' in accept:\n",
    "            return 2\n",
    "        elif 'text/xml' in accept or 'application/xml' in accept:\n",
    "            return 3\n",
    "        else:\n",
    "            return 4\n",
    "    \n",
    "    processed_df['accept_type'] = processed_df['feature-Accept'].apply(simplify_accept)\n",
    "    \n",
    "    # 7. Codificar la variable objetivo (Label)\n",
    "    target_encoder = LabelEncoder()\n",
    "    processed_df['label_encoded'] = target_encoder.fit_transform(processed_df['Label'])\n",
    "    \n",
    "    return processed_df, label_encoders, target_encoder\n",
    "\n",
    "def prepare_features(df_processed):\n",
    "    \"\"\"\n",
    "    Preparar features para el modelo Naive Bayes\n",
    "    \"\"\"\n",
    "    # Seleccionar features numéricas y categóricas codificadas\n",
    "    features = [\n",
    "        # Features categóricas codificadas\n",
    "        'feature-Method_encoded', 'feature-Protocol_encoded', 'feature-Connection_encoded',\n",
    "        \n",
    "        # Features de URL\n",
    "        'url_length', 'has_extension', 'is_localhost',\n",
    "        \n",
    "        # Features de User-Agent\n",
    "        'browser_type',\n",
    "        \n",
    "        # Features de contenido\n",
    "        'content_length', 'has_query', 'query_length',\n",
    "        \n",
    "        # Features de headers\n",
    "        'accept_type'\n",
    "    ]\n",
    "    \n",
    "    X = df_processed[features]\n",
    "    y = df_processed['label_encoded']\n",
    "    \n",
    "    return X, y\n"
   ]
  },
  {
   "cell_type": "markdown",
   "id": "acf2d646",
   "metadata": {},
   "source": [
    "## EDA"
   ]
  },
  {
   "cell_type": "code",
   "execution_count": 24,
   "id": "dfb77c5a",
   "metadata": {},
   "outputs": [],
   "source": [
    "path = 'D:\\\\MAIN\\\\Proyectos_Python\\\\Machine_Learning_Ciberseguridad\\\\anomalias_ciberseguridad\\\\datasets\\\\processed\\\\full_dataset.csv'\n",
    "\n",
    "df = pd.read_csv(path, sep='|')"
   ]
  },
  {
   "cell_type": "markdown",
   "id": "5f15567b",
   "metadata": {},
   "source": [
    "## 1. Preprocesamiento Específico para Naive Bayes"
   ]
  },
  {
   "cell_type": "code",
   "execution_count": null,
   "id": "55508937",
   "metadata": {},
   "outputs": [
    {
     "name": "stderr",
     "output_type": "stream",
     "text": [
      "C:\\Users\\Esnil\\AppData\\Local\\Temp\\ipykernel_1072\\462963351.py:31: UserWarning: This pattern is interpreted as a regular expression, and has match groups. To actually get the groups, use str.extract.\n",
      "  processed_df['has_extension'] = processed_df['feature-URL'].str.contains(r'\\.(html|jsp|php|asp)$', regex=True).astype(int)\n"
     ]
    }
   ],
   "source": [
    "# Aplicar preprocesamiento\n",
    "df_processed, encoders, target_encoder = preprocess_for_naive_bayes(df)"
   ]
  },
  {
   "cell_type": "markdown",
   "id": "0c580234",
   "metadata": {},
   "source": [
    "## 2. Selección de Features para el Modelo"
   ]
  },
  {
   "cell_type": "code",
   "execution_count": 13,
   "id": "c526704d",
   "metadata": {},
   "outputs": [
    {
     "name": "stdout",
     "output_type": "stream",
     "text": [
      "Dimensiones de X: (97065, 11)\n",
      "Distribución de clases: label_encoded\n",
      "1    72000\n",
      "0    25065\n",
      "Name: count, dtype: int64\n",
      "Features utilizados: ['feature-Method_encoded', 'feature-Protocol_encoded', 'feature-Connection_encoded', 'url_length', 'has_extension', 'is_localhost', 'browser_type', 'content_length', 'has_query', 'query_length', 'accept_type']\n"
     ]
    }
   ],
   "source": [
    "# Preparar datos\n",
    "X, y = prepare_features(df_processed)\n",
    "\n",
    "print(f\"Dimensiones de X: {X.shape}\")\n",
    "print(f\"Distribución de clases: {pd.Series(y).value_counts()}\")\n",
    "print(f\"Features utilizados: {X.columns.tolist()}\")"
   ]
  },
  {
   "cell_type": "markdown",
   "id": "68fa885d",
   "metadata": {},
   "source": [
    "## 3. División de Datos y Selección de Features"
   ]
  },
  {
   "cell_type": "code",
   "execution_count": 16,
   "id": "8b02e15e",
   "metadata": {},
   "outputs": [
    {
     "name": "stdout",
     "output_type": "stream",
     "text": [
      "Entrenamiento: 67945 muestras\n",
      "Prueba: 29120 muestras\n",
      "Features seleccionados: ['feature-Method_encoded', 'feature-Connection_encoded', 'url_length', 'has_extension', 'is_localhost', 'browser_type', 'content_length', 'has_query', 'query_length', 'accept_type']\n"
     ]
    }
   ],
   "source": [
    "# Dividir datos en entrenamiento y prueba\n",
    "X_train, X_test, y_train, y_test = train_test_split(\n",
    "    X, y, test_size=0.3, random_state=42, stratify=y\n",
    ")\n",
    "\n",
    "print(f\"Entrenamiento: {X_train.shape[0]} muestras\")\n",
    "print(f\"Prueba: {X_test.shape[0]} muestras\")\n",
    "\n",
    "# Selección de features más importantes (opcional)\n",
    "selector = SelectKBest(chi2, k=10)  # Seleccionar las 10 mejores features\n",
    "X_train_selected = selector.fit_transform(X_train, y_train)\n",
    "X_test_selected = selector.transform(X_test)\n",
    "\n",
    "selected_features = X.columns[selector.get_support()]\n",
    "print(f\"Features seleccionados: {selected_features.tolist()}\")"
   ]
  },
  {
   "cell_type": "markdown",
   "id": "c78580c2",
   "metadata": {},
   "source": [
    "## 4. Entrenamiento de Diferentes Modelos Naive Bayes"
   ]
  },
  {
   "cell_type": "code",
   "execution_count": 17,
   "id": "f90ee1a9",
   "metadata": {},
   "outputs": [
    {
     "name": "stdout",
     "output_type": "stream",
     "text": [
      "\n",
      "--- Entrenando GaussianNB ---\n",
      "Accuracy: 0.7311\n",
      "              precision    recall  f1-score   support\n",
      "\n",
      "   anomalous       0.47      0.28      0.35      7520\n",
      "      normal       0.78      0.89      0.83     21600\n",
      "\n",
      "    accuracy                           0.73     29120\n",
      "   macro avg       0.62      0.58      0.59     29120\n",
      "weighted avg       0.70      0.73      0.71     29120\n",
      "\n",
      "\n",
      "--- Entrenando MultinomialNB ---\n",
      "Accuracy: 0.7059\n",
      "              precision    recall  f1-score   support\n",
      "\n",
      "   anomalous       0.42      0.34      0.38      7520\n",
      "      normal       0.78      0.83      0.81     21600\n",
      "\n",
      "    accuracy                           0.71     29120\n",
      "   macro avg       0.60      0.59      0.59     29120\n",
      "weighted avg       0.69      0.71      0.70     29120\n",
      "\n",
      "\n",
      "--- Entrenando BernoulliNB ---\n",
      "Accuracy: 0.6815\n",
      "              precision    recall  f1-score   support\n",
      "\n",
      "   anomalous       0.39      0.40      0.39      7520\n",
      "      normal       0.79      0.78      0.78     21600\n",
      "\n",
      "    accuracy                           0.68     29120\n",
      "   macro avg       0.59      0.59      0.59     29120\n",
      "weighted avg       0.69      0.68      0.68     29120\n",
      "\n"
     ]
    }
   ],
   "source": [
    "def train_naive_bayes_models(X_train, X_test, y_train, y_test, use_feature_selection=False):\n",
    "    \"\"\"\n",
    "    Entrenar y comparar diferentes variantes de Naive Bayes\n",
    "    \"\"\"\n",
    "    models = {\n",
    "        'GaussianNB': GaussianNB(),\n",
    "        'MultinomialNB': MultinomialNB(),\n",
    "        'BernoulliNB': BernoulliNB()\n",
    "    }\n",
    "    \n",
    "    results = {}\n",
    "    \n",
    "    for name, model in models.items():\n",
    "        print(f\"\\n--- Entrenando {name} ---\")\n",
    "        \n",
    "        # Entrenar modelo\n",
    "        if use_feature_selection:\n",
    "            model.fit(X_train_selected, y_train)\n",
    "            y_pred = model.predict(X_test_selected)\n",
    "        else:\n",
    "            model.fit(X_train, y_train)\n",
    "            y_pred = model.predict(X_test)\n",
    "        \n",
    "        # Calcular métricas\n",
    "        accuracy = accuracy_score(y_test, y_pred)\n",
    "        \n",
    "        results[name] = {\n",
    "            'model': model,\n",
    "            'accuracy': accuracy,\n",
    "            'predictions': y_pred\n",
    "        }\n",
    "        \n",
    "        print(f\"Accuracy: {accuracy:.4f}\")\n",
    "        print(classification_report(y_test, y_pred, \n",
    "                                  target_names=target_encoder.classes_))\n",
    "    \n",
    "    return results\n",
    "\n",
    "# Entrenar modelos\n",
    "results = train_naive_bayes_models(X_train, X_test, y_train, y_test)"
   ]
  },
  {
   "cell_type": "markdown",
   "id": "72e444e4",
   "metadata": {},
   "source": [
    "## 5. Evaluación y Visualización"
   ]
  },
  {
   "cell_type": "code",
   "execution_count": 18,
   "id": "4eaef3e0",
   "metadata": {},
   "outputs": [
    {
     "data": {
      "image/png": "[encoded data removed]",
      "text/plain": [
       "<Figure size 1500x500 with 4 Axes>"
      ]
     },
     "metadata": {},
     "output_type": "display_data"
    },
    {
     "name": "stdout",
     "output_type": "stream",
     "text": [
      "\n",
      "Mejor modelo: GaussianNB\n"
     ]
    }
   ],
   "source": [
    "def evaluate_and_visualize(results, y_test, target_encoder):\n",
    "    \"\"\"\n",
    "    Evaluar y visualizar resultados de los modelos\n",
    "    \"\"\"\n",
    "    # Comparar accuracy\n",
    "    accuracies = {name: result['accuracy'] for name, result in results.items()}\n",
    "    \n",
    "    plt.figure(figsize=(15, 5))\n",
    "    \n",
    "    # Gráfico 1: Comparación de accuracy\n",
    "    plt.subplot(1, 3, 1)\n",
    "    plt.bar(accuracies.keys(), accuracies.values())\n",
    "    plt.title('Comparación de Accuracy - Modelos Naive Bayes')\n",
    "    plt.ylabel('Accuracy')\n",
    "    plt.xticks(rotation=45)\n",
    "    \n",
    "    # Gráfico 2: Matriz de confusión del mejor modelo\n",
    "    best_model_name = max(accuracies, key=accuracies.get)\n",
    "    best_predictions = results[best_model_name]['predictions']\n",
    "    \n",
    "    plt.subplot(1, 3, 2)\n",
    "    cm = confusion_matrix(y_test, best_predictions)\n",
    "    sns.heatmap(cm, annot=True, fmt='d', cmap='Blues',\n",
    "                xticklabels=target_encoder.classes_,\n",
    "                yticklabels=target_encoder.classes_)\n",
    "    plt.title(f'Matriz de Confusión - {best_model_name}')\n",
    "    plt.ylabel('Real')\n",
    "    plt.xlabel('Predicho')\n",
    "    \n",
    "    # Gráfico 3: Distribución de probabilidades (solo para GaussianNB)\n",
    "    plt.subplot(1, 3, 3)\n",
    "    if 'GaussianNB' in results:\n",
    "        gaussian_model = results['GaussianNB']['model']\n",
    "        probabilities = gaussian_model.predict_proba(X_test)\n",
    "        \n",
    "        for i, class_name in enumerate(target_encoder.classes_):\n",
    "            plt.hist(probabilities[:, i], alpha=0.6, label=class_name, bins=20)\n",
    "        \n",
    "        plt.title('Distribución de Probabilidades - GaussianNB')\n",
    "        plt.xlabel('Probabilidad')\n",
    "        plt.ylabel('Frecuencia')\n",
    "        plt.legend()\n",
    "    \n",
    "    plt.tight_layout()\n",
    "    plt.show()\n",
    "    \n",
    "    return best_model_name\n",
    "\n",
    "# Evaluar resultados\n",
    "best_model = evaluate_and_visualize(results, y_test, target_encoder)\n",
    "print(f\"\\nMejor modelo: {best_model}\")"
   ]
  },
  {
   "cell_type": "markdown",
   "id": "350602c4",
   "metadata": {},
   "source": [
    "## 6. Modelo Final y Predicciones"
   ]
  },
  {
   "cell_type": "code",
   "execution_count": 19,
   "id": "a172ae69",
   "metadata": {},
   "outputs": [
    {
     "name": "stdout",
     "output_type": "stream",
     "text": [
      "\n",
      "=== ANÁLISIS DEL MODELO ===\n",
      "Modelo final: GaussianNB\n",
      "Número de features: 11\n",
      "Clases: ['anomalous' 'normal']\n",
      "\n",
      "Medias por clase (primeras 5 features):\n",
      "  anomalous: [ 0.4138839   0.          0.         97.6117694   0.42194295]\n",
      "  normal: [ 0.22222222  0.          0.         70.00133333  0.5       ]\n"
     ]
    }
   ],
   "source": [
    "def train_final_model(X, y, model_type='GaussianNB'):\n",
    "    \"\"\"\n",
    "    Entrenar modelo final con todos los datos\n",
    "    \"\"\"\n",
    "    if model_type == 'GaussianNB':\n",
    "        model = GaussianNB()\n",
    "    elif model_type == 'MultinomialNB':\n",
    "        model = MultinomialNB()\n",
    "    elif model_type == 'BernoulliNB':\n",
    "        model = BernoulliNB()\n",
    "    else:\n",
    "        raise ValueError(\"Tipo de modelo no válido\")\n",
    "    \n",
    "    model.fit(X, y)\n",
    "    return model\n",
    "\n",
    "# Entrenar modelo final\n",
    "final_model = train_final_model(X, y, best_model)\n",
    "\n",
    "# Función para hacer predicciones en nuevos datos\n",
    "def predict_new_request(request_features, model, encoders, target_encoder):\n",
    "    \"\"\"\n",
    "    Predecir clase para una nueva solicitud HTTP\n",
    "    \"\"\"\n",
    "    # Preprocesar las features de la nueva solicitud\n",
    "    # (aquí necesitarías implementar la misma lógica de preprocesamiento)\n",
    "    # ...\n",
    "    \n",
    "    prediction = model.predict([request_features])[0]\n",
    "    probability = model.predict_proba([request_features])[0]\n",
    "    \n",
    "    predicted_class = target_encoder.inverse_transform([prediction])[0]\n",
    "    \n",
    "    print(f\"Clase predicha: {predicted_class}\")\n",
    "    print(\"Probabilidades:\")\n",
    "    for i, class_name in enumerate(target_encoder.classes_):\n",
    "        print(f\"  {class_name}: {probability[i]:.4f}\")\n",
    "    \n",
    "    return predicted_class, probability\n",
    "\n",
    "# Características importantes del modelo\n",
    "print(\"\\n=== ANÁLISIS DEL MODELO ===\")\n",
    "print(f\"Modelo final: {best_model}\")\n",
    "print(f\"Número de features: {X.shape[1]}\")\n",
    "print(f\"Clases: {target_encoder.classes_}\")\n",
    "\n",
    "if hasattr(final_model, 'theta_'):\n",
    "    print(\"\\nMedias por clase (primeras 5 features):\")\n",
    "    for i, class_name in enumerate(target_encoder.classes_):\n",
    "        print(f\"  {class_name}: {final_model.theta_[i][:5]}\")"
   ]
  },
  {
   "cell_type": "markdown",
   "id": "559fe679",
   "metadata": {},
   "source": [
    "## 7. Guardar el Modelo"
   ]
  },
  {
   "cell_type": "code",
   "execution_count": 20,
   "id": "f1d50d69",
   "metadata": {},
   "outputs": [
    {
     "name": "stdout",
     "output_type": "stream",
     "text": [
      "Modelo guardado como 'naive_bayes_http_model.pkl'\n"
     ]
    }
   ],
   "source": [
    "import joblib\n",
    "\n",
    "# Guardar modelo y preprocesadores\n",
    "model_artifacts = {\n",
    "    'model': final_model,\n",
    "    'label_encoders': encoders,\n",
    "    'target_encoder': target_encoder,\n",
    "    'feature_names': X.columns.tolist()\n",
    "}\n",
    "\n",
    "joblib.dump(model_artifacts, 'naive_bayes_http_model.pkl')\n",
    "print(\"Modelo guardado como 'naive_bayes_http_model.pkl'\")\n",
    "\n",
    "# Para cargar el modelo posteriormente:\n",
    "# loaded_artifacts = joblib.load('naive_bayes_http_model.pkl')\n",
    "# model = loaded_artifacts['model']"
   ]
  }
 ],
 "metadata": {
  "kernelspec": {
   "display_name": "ciberseguridad",
   "language": "python",
   "name": "python3"
  },
  "language_info": {
   "codemirror_mode": {
    "name": "ipython",
    "version": 3
   },
   "file_extension": ".py",
   "mimetype": "text/x-python",
   "name": "python",
   "nbconvert_exporter": "python",
   "pygments_lexer": "ipython3",
   "version": "3.11.13"
  }
 },
 "nbformat": 4,
 "nbformat_minor": 5
}
